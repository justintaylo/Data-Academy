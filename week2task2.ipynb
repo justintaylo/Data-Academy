{
 "cells": [
  {
   "cell_type": "code",
   "execution_count": null,
   "metadata": {},
   "outputs": [],
   "source": [
    "#a motorbike costs £2000 and loses 10%of it's value every year. Using a loop, print the value of the bike every following year until it falls below £1000\n",
    "#main clculation\n",
    "#loop command\n",
    "\n",
    "from math import *\n",
    "bike_cost= 2000\n",
    "while bike_cost >1000:\n",
    "    print(str(bike_cost- (bike_cost/100)*10))"
   ]
  }
 ],
 "metadata": {
  "interpreter": {
   "hash": "aee8b7b246df8f9039afb4144a1f6fd8d2ca17a180786b69acc140d282b71a49"
  },
  "kernelspec": {
   "display_name": "Python 3.9.6 64-bit",
   "name": "python3"
  },
  "language_info": {
   "codemirror_mode": {
    "name": "ipython",
    "version": 3
   },
   "file_extension": ".py",
   "mimetype": "text/x-python",
   "name": "python",
   "nbconvert_exporter": "python",
   "pygments_lexer": "ipython3",
   "version": "3.9.6"
  },
  "orig_nbformat": 4
 },
 "nbformat": 4,
 "nbformat_minor": 2
}