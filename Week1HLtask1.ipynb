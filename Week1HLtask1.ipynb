{
 "metadata": {
  "language_info": {
   "codemirror_mode": {
    "name": "ipython",
    "version": 3
   },
   "file_extension": ".py",
   "mimetype": "text/x-python",
   "name": "python",
   "nbconvert_exporter": "python",
   "pygments_lexer": "ipython3",
   "version": "3.9.6"
  },
  "orig_nbformat": 4,
  "kernelspec": {
   "name": "python3",
   "display_name": "Python 3.9.6 64-bit"
  },
  "interpreter": {
   "hash": "aee8b7b246df8f9039afb4144a1f6fd8d2ca17a180786b69acc140d282b71a49"
  }
 },
 "nbformat": 4,
 "nbformat_minor": 2,
 "cells": [
  {
   "cell_type": "code",
   "execution_count": 1,
   "metadata": {},
   "outputs": [
    {
     "output_type": "stream",
     "name": "stdout",
     "text": [
      "Hello Justin, I have picked a number between 1 and 10.\n",
      "That's not my number, better luck next time.\n"
     ]
    }
   ],
   "source": [
    "#task1 write a program that stores a random number 1-10 in a variable, ask a user their name, and store as a variable, ask a user to guess the number between 1 and 10, tells the user if they have guessed correctly. \n",
    "import random \n",
    "my_name = input(\"what is your name?\") \n",
    "number = random.randint(1,10) \n",
    "print(\"Hello \" + my_name + \", I have picked a number between 1 and 10.\")\n",
    "guessed_number = int(input(\"Can you guess which one I am thinking of?\")) \n",
    "if guessed_number == number: \n",
    "    print(\"great work \" + my_name + \", you guessed correctly\")\n",
    "else:\n",
    "    print(\"That's not my number, better luck next time.\")"
   ]
  }
 ]
}