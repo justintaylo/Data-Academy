{
  "nbformat": 4,
  "nbformat_minor": 0,
  "metadata": {
    "colab": {
      "name": "Copy of week 4 pandas.ipynb",
      "provenance": [],
      "collapsed_sections": []
    },
    "kernelspec": {
      "name": "python3",
      "display_name": "Python 3"
    },
    "language_info": {
      "name": "python"
    }
  },
  "cells": [
    {
      "cell_type": "code",
      "metadata": {
        "colab": {
          "base_uri": "https://localhost:8080/"
        },
        "id": "Jsj9YuLkgrOL",
        "outputId": "cba564f8-6b7c-43e7-dc02-c53ecf7e4354"
      },
      "source": [
        "import pandas as pd\n",
        "\n",
        "holidays = pd.read_csv(\"Holidays.csv\")\n",
        "\n",
        "# 2 Print row 3-8 using iloc / loc\n",
        "\n",
        "print (holidays.iloc[8, 3])\n"
      ],
      "execution_count": 6,
      "outputs": [
        {
          "output_type": "stream",
          "name": "stdout",
          "text": [
            "3\n"
          ]
        }
      ]
    },
    {
      "cell_type": "code",
      "metadata": {
        "id": "eBlIj3hPWpZT"
      },
      "source": [
        ""
      ],
      "execution_count": null,
      "outputs": []
    },
    {
      "cell_type": "code",
      "metadata": {
        "colab": {
          "base_uri": "https://localhost:8080/"
        },
        "id": "AnF8xw3mPA8O",
        "outputId": "bee33cb2-9c6c-4585-f762-e7c0a741a901"
      },
      "source": [
        "import pandas as pd\n",
        "\n",
        "holidays = pd.read_csv(\"Holidays.csv\")\n",
        "\n",
        "holidays.shape\n"
      ],
      "execution_count": 9,
      "outputs": [
        {
          "output_type": "execute_result",
          "data": {
            "text/plain": [
              "(15, 5)"
            ]
          },
          "metadata": {},
          "execution_count": 9
        }
      ]
    },
    {
      "cell_type": "code",
      "metadata": {
        "colab": {
          "base_uri": "https://localhost:8080/"
        },
        "id": "qZSRQhRyRkEI",
        "outputId": "ad381804-9eaf-4300-918a-429f681e87c4"
      },
      "source": [
        "import pandas as pd\n",
        "\n",
        "holidays = pd.read_csv(\"Holidays.csv\")\n",
        "\n",
        "holidays[\"number of all inclusive hotels\"].mean()\n",
        "\n",
        "\n"
      ],
      "execution_count": 14,
      "outputs": [
        {
          "output_type": "execute_result",
          "data": {
            "text/plain": [
              "4.2"
            ]
          },
          "metadata": {},
          "execution_count": 14
        }
      ]
    },
    {
      "cell_type": "code",
      "metadata": {
        "colab": {
          "base_uri": "https://localhost:8080/"
        },
        "id": "tvu0gQ6lTEVp",
        "outputId": "d2419c55-440f-49f0-b402-d991a9a31990"
      },
      "source": [
        "import pandas as pd\n",
        "\n",
        "data = pd.read_csv(\"Holidays.csv\")\n",
        "\n",
        "df = pd.DataFrame(data)\n",
        "\n",
        "df[\"score\"].min()\n"
      ],
      "execution_count": 25,
      "outputs": [
        {
          "output_type": "execute_result",
          "data": {
            "text/plain": [
              "3"
            ]
          },
          "metadata": {},
          "execution_count": 25
        }
      ]
    },
    {
      "cell_type": "code",
      "metadata": {
        "colab": {
          "base_uri": "https://localhost:8080/"
        },
        "id": "3oFAb7CZToJo",
        "outputId": "95692c95-4c5d-425a-9a1c-3ccec3693613"
      },
      "source": [
        "import pandas as pd\n",
        "\n",
        "data = pd.read_csv(\"Holidays.csv\")\n",
        "\n",
        "df = pd.DataFrame(data)\n",
        "\n",
        "df[\"score\"].max()\n",
        "\n"
      ],
      "execution_count": 24,
      "outputs": [
        {
          "output_type": "execute_result",
          "data": {
            "text/plain": [
              "9"
            ]
          },
          "metadata": {},
          "execution_count": 24
        }
      ]
    },
    {
      "cell_type": "code",
      "metadata": {
        "colab": {
          "base_uri": "https://localhost:8080/"
        },
        "id": "6xxOHf7fWrNf",
        "outputId": "d4d4a68f-c2dc-42f5-d4f8-3581001ba739"
      },
      "source": [
        "import pandas as pd\n",
        "\n",
        "data = pd.read_csv(\"Holidays.csv\")\n",
        "\n",
        "df = pd.DataFrame(data)\n",
        "\n",
        "df_mask=df['number of all inclusive hotels']>8\n",
        "filtered_df = df[df_mask]\n",
        "print(df_mask)\n",
        "\n"
      ],
      "execution_count": 32,
      "outputs": [
        {
          "output_type": "stream",
          "name": "stdout",
          "text": [
            "0     False\n",
            "1     False\n",
            "2     False\n",
            "3     False\n",
            "4     False\n",
            "5     False\n",
            "6     False\n",
            "7     False\n",
            "8     False\n",
            "9     False\n",
            "10    False\n",
            "11    False\n",
            "12    False\n",
            "13    False\n",
            "14    False\n",
            "Name: number of all inclusive hotels, dtype: bool\n"
          ]
        }
      ]
    },
    {
      "cell_type": "code",
      "metadata": {
        "id": "cF4iSMMmZGdT"
      },
      "source": [
        ""
      ],
      "execution_count": null,
      "outputs": []
    }
  ]
}