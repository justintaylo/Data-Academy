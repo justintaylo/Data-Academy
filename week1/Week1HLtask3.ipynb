{
 "metadata": {
  "language_info": {
   "codemirror_mode": {
    "name": "ipython",
    "version": 3
   },
   "file_extension": ".py",
   "mimetype": "text/x-python",
   "name": "python",
   "nbconvert_exporter": "python",
   "pygments_lexer": "ipython3",
   "version": "3.9.6"
  },
  "orig_nbformat": 4,
  "kernelspec": {
   "name": "python3",
   "display_name": "Python 3.9.6 64-bit"
  },
  "interpreter": {
   "hash": "aee8b7b246df8f9039afb4144a1f6fd8d2ca17a180786b69acc140d282b71a49"
  }
 },
 "nbformat": 4,
 "nbformat_minor": 2,
 "cells": [
  {
   "cell_type": "code",
   "execution_count": 1,
   "metadata": {},
   "outputs": [
    {
     "output_type": "stream",
     "name": "stdout",
     "text": [
      "Hello a, Lets talk about your favourite meal.\n",
      "Your favourite meal is...\n",
      "b as a starter followed by c then d for dessert, all served with a nice glass of e on the side.\n"
     ]
    }
   ],
   "source": [
    "#task 3 - write a program that allows the user to enter their favourite starter, main course, dessert and drink. Concatenate these and output a message which says -\"your favourite meal is ......with a glass of ....\"\n",
    "my_name = input(\"what is your name?\") \n",
    "print(\"Hello \" + my_name + \", Lets talk about your favourite meal.\")\n",
    "starter = str(input(\"Can you please tell me your favourite starter?\"))\n",
    "mainCourse = str(input(\"Can you please tell me your favourite main course?\"))\n",
    "desert = str(input(\"What is your favourite desert?\"))\n",
    "drink = str(input(\"What is your favourite drink?\"))\n",
    "favourite_meal = starter+ \" as a starter followed by \"+mainCourse+ \" then \"+desert+\" for dessert, all served with a nice glass of \"+drink+\" on the side.\"\n",
    "print(\"Your favourite meal is...\")\n",
    "print(favourite_meal)\n",
    "\n"
   ]
  },
  {
   "cell_type": "code",
   "execution_count": null,
   "metadata": {},
   "outputs": [],
   "source": []
  }
 ]
}