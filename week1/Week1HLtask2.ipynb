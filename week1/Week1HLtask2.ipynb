{
 "metadata": {
  "language_info": {
   "codemirror_mode": {
    "name": "ipython",
    "version": 3
   },
   "file_extension": ".py",
   "mimetype": "text/x-python",
   "name": "python",
   "nbconvert_exporter": "python",
   "pygments_lexer": "ipython3",
   "version": "3.9.6"
  },
  "orig_nbformat": 4,
  "kernelspec": {
   "name": "python3",
   "display_name": "Python 3.9.6 64-bit"
  },
  "interpreter": {
   "hash": "aee8b7b246df8f9039afb4144a1f6fd8d2ca17a180786b69acc140d282b71a49"
  }
 },
 "nbformat": 4,
 "nbformat_minor": 2,
 "cells": [
  {
   "cell_type": "code",
   "execution_count": 2,
   "metadata": {},
   "outputs": [
    {
     "output_type": "stream",
     "name": "stdout",
     "text": [
      "Hello lisa, Do you want to hear a joke?\n",
      "\n",
      "What does a cloud wear under his raincoat? .\n",
      "\n",
      "Thunderwear\n"
     ]
    }
   ],
   "source": [
    "#Task 2 Write a program that asks a user for their favourite number between 1 and 100 and then tells them a joke based on the number. You should use a minimum of 3 Jokes.\n",
    "my_name = input(\"what is your name?\") \n",
    "print(\"Hello \" + my_name + \", Do you want to hear a joke?\")\n",
    "favourite_number = int(input(\"Tell me your favourite number between 1 and 100 and I'll tell you a joke\"))\n",
    "if favourite_number <= 30:\n",
    "    print(\"\")\n",
    "    print(\"What do you call a boomerang that won’t come back? A stick\")\n",
    "    print(\"\")\n",
    "    print(\"A stick\")\n",
    "elif favourite_number > 30<60:\n",
    "    print(\"\")\n",
    "    print(\"What does a cloud wear under his raincoat? .\")\n",
    "    print(\"\")\n",
    "    print(\"Thunderwear\")\n",
    "else: \n",
    "    print(\"\")\n",
    "    print (\"What time is it when the clock strikes 13? \")\n",
    "    print(\"\")\n",
    "    print(\"Time to get a new clock\")\n",
    "    \n",
    "    #find out why the third line isnt working"
   ]
  },
  {
   "cell_type": "code",
   "execution_count": null,
   "metadata": {},
   "outputs": [],
   "source": []
  }
 ]
}