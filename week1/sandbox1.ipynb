{
 "metadata": {
  "language_info": {
   "codemirror_mode": {
    "name": "ipython",
    "version": 3
   },
   "file_extension": ".py",
   "mimetype": "text/x-python",
   "name": "python",
   "nbconvert_exporter": "python",
   "pygments_lexer": "ipython3",
   "version": "3.9.6"
  },
  "orig_nbformat": 4,
  "kernelspec": {
   "name": "python3",
   "display_name": "Python 3.9.6 64-bit"
  },
  "interpreter": {
   "hash": "aee8b7b246df8f9039afb4144a1f6fd8d2ca17a180786b69acc140d282b71a49"
  }
 },
 "nbformat": 4,
 "nbformat_minor": 2,
 "cells": [
  {
   "cell_type": "code",
   "execution_count": 10,
   "metadata": {},
   "outputs": [
    {
     "output_type": "stream",
     "name": "stdout",
     "text": [
      "Hello jus, Do you want to hear a joke?\n",
      "What does a cloud wear under his raincoat? Thunderwear.\n"
     ]
    }
   ],
   "source": [
    "#Task 2 Write a program that asks a user for their favourite number between 1 and 100 and then tells them a joke based on the number. You should use a minimum of 3 Jokes.\n",
    "my_name = input(\"what is your name?\") \n",
    "print(\"Hello \" + my_name + \", Do you want to hear a joke?\")\n",
    "favourite_number = int(input(\"Tell me your favourite number between 1 and 100 and I'll tell you a joke\"))\n",
    "if favourite_number <= 50:\n",
    "    print(\"What do you call a boomerang that won’t come back? A stick\")\n",
    "elif favourite_number > 50 < 80:\n",
    "    print(\"What does a cloud wear under his raincoat? Thunderwear.\")\n",
    "else:\n",
    "    print (\"What time is it when the clock strikes 13? Time to get a new clock\")\n",
    "\n"
   ]
  },
  {
   "cell_type": "code",
   "execution_count": 2,
   "metadata": {},
   "outputs": [
    {
     "output_type": "error",
     "ename": "SyntaxError",
     "evalue": "invalid syntax (2616451165.py, line 1)",
     "traceback": [
      "\u001b[0;36m  File \u001b[0;32m\"/var/folders/mp/bnrm2z9d3z37tm3r0d49_dvm0000gn/T/ipykernel_18754/2616451165.py\"\u001b[0;36m, line \u001b[0;32m1\u001b[0m\n\u001b[0;31m    if favourite_number = 1:\u001b[0m\n\u001b[0m                        ^\u001b[0m\n\u001b[0;31mSyntaxError\u001b[0m\u001b[0;31m:\u001b[0m invalid syntax\n"
     ]
    }
   ],
   "source": [
    "if favourite_number = 1:\n",
    "    print(\"What do you call a boomerang that won’t come back? A stick\")\n",
    "\n",
    "if favourite_number < 30\n",
    "    print(\"What do you call a boomerang that won’t come back? A stick\")\n",
    "elif favourite_number >= 30 < 60\n",
    "    print(\"What does a cloud wear under his raincoat? Thunderwear.)\n",
    "else favourite_number >= 60 and <= 100\n",
    "    print (\"What time is it when the clock strikes 13? Time to get a new clock\")"
   ]
  },
  {
   "cell_type": "code",
   "execution_count": null,
   "metadata": {},
   "outputs": [],
   "source": [
    "\n",
    "+ str(starter) + str(mainCourse) + str(desert) + str(drink))\n",
    "\n",
    "followed by %b then %c with %d is your favourite meal\""
   ]
  }
 ]
}