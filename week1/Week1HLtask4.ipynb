{
 "metadata": {
  "language_info": {
   "codemirror_mode": {
    "name": "ipython",
    "version": 3
   },
   "file_extension": ".py",
   "mimetype": "text/x-python",
   "name": "python",
   "nbconvert_exporter": "python",
   "pygments_lexer": "ipython3",
   "version": 3
  },
  "orig_nbformat": 4
 },
 "nbformat": 4,
 "nbformat_minor": 2,
 "cells": [
  {
   "cell_type": "code",
   "execution_count": null,
   "metadata": {},
   "outputs": [],
   "source": [
    "#a motorbike costs £200 and loses 10%of it's value every year. Using a loop, print the value of the bike every following year until it falls below £1000\n",
    "\n",
    "motor_bike = 200\n",
    "value = 200/100*10\n",
    "print"
   ]
  }
 ]
}