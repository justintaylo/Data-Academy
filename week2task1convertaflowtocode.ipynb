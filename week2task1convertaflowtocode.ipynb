{
 "metadata": {
  "language_info": {
   "codemirror_mode": {
    "name": "ipython",
    "version": 3
   },
   "file_extension": ".py",
   "mimetype": "text/x-python",
   "name": "python",
   "nbconvert_exporter": "python",
   "pygments_lexer": "ipython3",
   "version": "3.9.6"
  },
  "orig_nbformat": 4,
  "kernelspec": {
   "name": "python3",
   "display_name": "Python 3.9.6 64-bit"
  },
  "interpreter": {
   "hash": "aee8b7b246df8f9039afb4144a1f6fd8d2ca17a180786b69acc140d282b71a49"
  }
 },
 "nbformat": 4,
 "nbformat_minor": 2,
 "cells": [
  {
   "cell_type": "code",
   "execution_count": 5,
   "metadata": {},
   "outputs": [
    {
     "output_type": "error",
     "ename": "SyntaxError",
     "evalue": "invalid syntax (477332212.py, line 6)",
     "traceback": [
      "\u001b[0;36m  File \u001b[0;32m\"/var/folders/mp/bnrm2z9d3z37tm3r0d49_dvm0000gn/T/ipykernel_3778/477332212.py\"\u001b[0;36m, line \u001b[0;32m6\u001b[0m\n\u001b[0;31m    if (menu_option==1):\u001b[0m\n\u001b[0m                       ^\u001b[0m\n\u001b[0;31mSyntaxError\u001b[0m\u001b[0;31m:\u001b[0m invalid syntax\n"
     ]
    }
   ],
   "source": [
    "#program to select product from a vending machine\n",
    "#and run a procedure to display the choice and dispense the snack based on the input\n",
    "\n",
    "#ask the user to enter a choice of snack\n",
    "menu_option = int(input(\"please select 1 for crisps or 2 for a drink \")\n",
    "if (menu_option==1):\n",
    "    print (\"dispensing crisps\")\n",
    "elif (menu_option==2):\n",
    "    print (\"dispensing drink\")\n",
    "else print (\"incorrect choice, please chose again\")\n"
   ]
  },
  {
   "cell_type": "code",
   "execution_count": null,
   "metadata": {},
   "outputs": [],
   "source": []
  }
 ]
}