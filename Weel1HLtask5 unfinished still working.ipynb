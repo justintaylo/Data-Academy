{
 "metadata": {
  "language_info": {
   "codemirror_mode": {
    "name": "ipython",
    "version": 3
   },
   "file_extension": ".py",
   "mimetype": "text/x-python",
   "name": "python",
   "nbconvert_exporter": "python",
   "pygments_lexer": "ipython3",
   "version": "3.9.6"
  },
  "orig_nbformat": 4,
  "kernelspec": {
   "name": "python3",
   "display_name": "Python 3.9.6 64-bit"
  },
  "interpreter": {
   "hash": "aee8b7b246df8f9039afb4144a1f6fd8d2ca17a180786b69acc140d282b71a49"
  }
 },
 "nbformat": 4,
 "nbformat_minor": 2,
 "cells": [
  {
   "cell_type": "code",
   "execution_count": 1,
   "metadata": {},
   "outputs": [],
   "source": [
    "#write a program which will ask for two numbers from a user. Then offer a menu to the user giving them a choice of operator:\n",
    "#e.g. - Enter \"a\" if you want to add\n",
    "#\"b\" if you want to subtract\n",
    "#include +,-,/*,** square (to the power of). Once the user has selected which operator they wish to use, perform the calculation."
   ]
  },
  {
   "cell_type": "code",
   "execution_count": 8,
   "metadata": {},
   "outputs": [
    {
     "output_type": "error",
     "ename": "SyntaxError",
     "evalue": "invalid syntax (1495452579.py, line 3)",
     "traceback": [
      "\u001b[0;36m  File \u001b[0;32m\"/var/folders/mp/bnrm2z9d3z37tm3r0d49_dvm0000gn/T/ipykernel_5586/1495452579.py\"\u001b[0;36m, line \u001b[0;32m3\u001b[0m\n\u001b[0;31m    operator = input( str\"please enter the operator of your choice: \"\u001b[0m\n\u001b[0m                         ^\u001b[0m\n\u001b[0;31mSyntaxError\u001b[0m\u001b[0;31m:\u001b[0m invalid syntax\n"
     ]
    }
   ],
   "source": [
    "num1 = input(\"please enter a number: \")\n",
    "num2 = input(\"please enter another number: \")\n",
    "result = num1 + num2\n",
    "\n",
    "\n",
    "\n",
    "\n"
   ]
  },
  {
   "cell_type": "code",
   "execution_count": 1,
   "metadata": {},
   "outputs": [
    {
     "output_type": "error",
     "ename": "SyntaxError",
     "evalue": "invalid syntax (3056762553.py, line 16)",
     "traceback": [
      "\u001b[0;36m  File \u001b[0;32m\"/var/folders/mp/bnrm2z9d3z37tm3r0d49_dvm0000gn/T/ipykernel_5586/3056762553.py\"\u001b[0;36m, line \u001b[0;32m16\u001b[0m\n\u001b[0;31m    elif selection == '2':\u001b[0m\n\u001b[0m    ^\u001b[0m\n\u001b[0;31mSyntaxError\u001b[0m\u001b[0;31m:\u001b[0m invalid syntax\n"
     ]
    }
   ],
   "source": [
    "\n",
    "operator = input( str\"please enter the operator of your choice: \"\n",
    "\n",
    "print (\"Please choose an option for mathing\")\n",
    "print (\"1 for addition\")\n",
    "print (\"2 for division\")\n",
    "print (\"3 for subtraction\")\n",
    "print (\"4 for multiplication\")\n",
    "print (\"5 \")\n",
    "print (\"0 to exit\")\n",
    "\n",
    "#performing the operations\n",
    "\n",
    "selection = int(input[\"1\", \"2\", \"3\", \"4\", \"5\", \"0\"])\n",
    "\n",
    "if selection == '1':\n",
    "    print (\"The sum is\", str((a+b))\n",
    "\n",
    "elif selection == '2':\n",
    "    print (\"The quotient is\", str((a/b))\n",
    "\n",
    "elif selection == '3':\n",
    "    print (\"The difference is\", str(subtract(a, b))\n",
    "\n",
    "elif selection == '4':\n",
    "    print (\"The product is\", str((a*b))\n",
    "\n",
    "elif selection == '0':\n",
    "    exit()"
   ]
  },
  {
   "cell_type": "code",
   "execution_count": null,
   "metadata": {},
   "outputs": [],
   "source": []
  }
 ]
}