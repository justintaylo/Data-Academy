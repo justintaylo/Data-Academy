{
 "cells": [
  {
   "cell_type": "code",
   "execution_count": 4,
   "metadata": {},
   "outputs": [],
   "source": [
    "#write a program which will ask for two numbers from a user. Then offer a menu to the user giving them a choice of operator:\n",
    "#e.g. - Enter \"a\" if you want to add\n",
    "#\"b\" if you want to subtract\n",
    "#include +,-,/*,** square (to the power of). Once the user has selected which operator they wish to use, perform the calculation."
   ]
  },
  {
   "cell_type": "code",
   "execution_count": 10,
   "metadata": {},
   "outputs": [
    {
     "ename": "SyntaxError",
     "evalue": "invalid syntax (3776149265.py, line 1)",
     "output_type": "error",
     "traceback": [
      "\u001b[0;36m  File \u001b[0;32m\"/var/folders/mp/bnrm2z9d3z37tm3r0d49_dvm0000gn/T/ipykernel_3365/3776149265.py\"\u001b[0;36m, line \u001b[0;32m1\u001b[0m\n\u001b[0;31m    operator = input( str\"please enter the operator of your choice: \")\u001b[0m\n\u001b[0m                         ^\u001b[0m\n\u001b[0;31mSyntaxError\u001b[0m\u001b[0;31m:\u001b[0m invalid syntax\n"
     ]
    }
   ],
   "source": [
    "\n",
    "def procedure_1(inp_num1,inp_num2,inp_op)\n",
    "\n",
    "num1 = inp_num1\n",
    "num2 = inp_num2\n",
    "op = inp_op\n",
    "\n",
    "num1 = (input(\"enter an number: \"))\n",
    "num2 = (input(\"enter another number: \"))\n",
    "op = input(\"Enter operator + - / or *\")\n",
    "\n",
    "if op == \"+\":\n",
    "    print(num1+num2)\n",
    "\n",
    "elif op == \"-\":\n",
    "    print(num1-num2)\n",
    "\n",
    "elif op == \"/\":\n",
    "    print(num1/num2)\n",
    "\n",
    "elif op == \"*\":\n",
    "    print(num1*num2)\n",
    "else:\n",
    "     print(\"invalid operator\")\n",
    "\n",
    "output = \n",
    "\n",
    "return output\n",
    "\n"
   ]
  },
  {
   "cell_type": "code",
   "execution_count": null,
   "metadata": {},
   "outputs": [],
   "source": [
    "num1 = input(\"please enter a number: \")\n",
    "num2 = input(\"please enter another number: \")\n",
    "result = num1 + num2\n",
    "\n",
    "\n",
    "\n",
    "num1 = input(\"please enter a number: \")\n",
    "num2 = input(\"please enter another number: \")\n",
    "\n",
    "operator = input( str\"please enter the operator of your choice: \")\n",
    "\n",
    "print (\"Please choose an option for mathing\")\n",
    "print (\"1 for addition\")\n",
    "print (\"2 for division\")\n",
    "print (\"3 for subtraction\")\n",
    "print (\"4 for multiplication\")\n",
    "print (\"5 \")\n",
    "print (\"0 to exit\")\n",
    "\n",
    "user_selecttion = int(input[\"1\", \"2\", \"3\", \"4\", \"5\", \"0\"])\n",
    "\n",
    "if user_selecttion == '1':\n",
    "    print (\"The sum is\", str((a+b))\n",
    "\n",
    "elif user_selecttion == '2':\n",
    "    print (\"The quotient is\", str((a/b))\n",
    "\n",
    "elif user_selecttion == '3':\n",
    "    print (\"The difference is\", str(subtract(a, b))\n",
    "\n",
    "elif user_selecttion == '4':\n",
    "    print (\"The product is\", str((a*b))\n",
    "\n",
    "elif user_selecttion == '0':\n",
    "    exit()\n"
   ]
  }
 ],
 "metadata": {
  "interpreter": {
   "hash": "aee8b7b246df8f9039afb4144a1f6fd8d2ca17a180786b69acc140d282b71a49"
  },
  "kernelspec": {
   "display_name": "Python 3.9.6 64-bit",
   "name": "python3"
  },
  "language_info": {
   "name": "python",
   "version": ""
  },
  "orig_nbformat": 4
 },
 "nbformat": 4,
 "nbformat_minor": 2
}