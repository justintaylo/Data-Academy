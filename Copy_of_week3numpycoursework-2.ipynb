{
  "nbformat": 4,
  "nbformat_minor": 0,
  "metadata": {
    "colab": {
      "name": "Copy of week3numpycoursework.ipynb",
      "provenance": []
    },
    "kernelspec": {
      "name": "python3",
      "display_name": "Python 3"
    },
    "language_info": {
      "name": "python"
    }
  },
  "cells": [
    {
      "cell_type": "code",
      "metadata": {
        "id": "Yn9PVEb8vigu"
      },
      "source": [
        ""
      ],
      "execution_count": null,
      "outputs": []
    },
    {
      "cell_type": "code",
      "metadata": {
        "id": "h8CyfrzB1ZXi"
      },
      "source": [
        ""
      ],
      "execution_count": null,
      "outputs": []
    },
    {
      "cell_type": "code",
      "metadata": {
        "colab": {
          "base_uri": "https://localhost:8080/"
        },
        "id": "z1MVZ0DsvjOd",
        "outputId": "e0ad5494-ea96-45aa-9585-0bdd9180ebb0"
      },
      "source": [
        "import numpy as np\n",
        "\n",
        "#1 create a 1D array of numbers from 0-9\n",
        "\n",
        "array = np.array([1,2,3,4,5,6,7,8,9])\n",
        "\n",
        "print(array)\n",
        "\n"
      ],
      "execution_count": null,
      "outputs": [
        {
          "output_type": "stream",
          "text": [
            "[1 2 3 4 5 6 7 8 9]\n"
          ],
          "name": "stdout"
        }
      ]
    },
    {
      "cell_type": "code",
      "metadata": {
        "colab": {
          "base_uri": "https://localhost:8080/"
        },
        "id": "1LoqkC8MwjOp",
        "outputId": "336e0725-8bbb-4a78-dfad-3168692320bf"
      },
      "source": [
        "#2 create a 3x3 array of boolean value trues\n",
        "\n",
        "array2 = np.array([[1,2,3,], [4,5,6], [7,8,9]])\n",
        "\n",
        "print(array2)"
      ],
      "execution_count": null,
      "outputs": [
        {
          "output_type": "stream",
          "text": [
            "[[1 2 3]\n",
            " [4 5 6]\n",
            " [7 8 9]]\n"
          ],
          "name": "stdout"
        }
      ]
    },
    {
      "cell_type": "code",
      "metadata": {
        "colab": {
          "base_uri": "https://localhost:8080/"
        },
        "id": "dNcxnN8Mx-xp",
        "outputId": "d37ea980-cfc7-42b3-bb52-c90fbd69efed"
      },
      "source": [
        "#3 extract all odd numbers from array of 1-10\n",
        "\n",
        "slice = np.array([1,2,3,4,5,6,7,8,9,10])\n",
        "\n",
        "print(slice[0:10:2]) # from 0 to 10 in sections of 2"
      ],
      "execution_count": null,
      "outputs": [
        {
          "output_type": "stream",
          "text": [
            "[1 3 5 7 9]\n"
          ],
          "name": "stdout"
        }
      ]
    },
    {
      "cell_type": "code",
      "metadata": {
        "id": "JADymm1Azfzy"
      },
      "source": [
        "#havent a clue hoe to start no 4!!!!"
      ],
      "execution_count": null,
      "outputs": []
    },
    {
      "cell_type": "code",
      "metadata": {
        "colab": {
          "base_uri": "https://localhost:8080/"
        },
        "id": "5pKmgIvwzk9a",
        "outputId": "da11c165-f8e9-434b-8b29-e797b0e32131"
      },
      "source": [
        "#5 convert a 1D array to a 2D array with 2 rows\n",
        "array1 = np.array([1,2,3,4,5,6,7,8,9,10,11,12])\n",
        "newArray = array1.reshape(2, 6)\n",
        "\n",
        "print(newArray)"
      ],
      "execution_count": null,
      "outputs": [
        {
          "output_type": "stream",
          "text": [
            "[[ 1  2  3  4  5  6]\n",
            " [ 7  8  9 10 11 12]]\n"
          ],
          "name": "stdout"
        }
      ]
    },
    {
      "cell_type": "code",
      "metadata": {
        "colab": {
          "base_uri": "https://localhost:8080/"
        },
        "id": "nTXMYYwO1aP_",
        "outputId": "83503bbe-c28b-4563-a4d7-72a98e8f1169"
      },
      "source": [
        "#6\n",
        "\n",
        "import numpy as np\n",
        "a = np.arange(1,10).reshape(3,3)\n",
        "b = np.arange(10, 19).reshape(3, 3)\n",
        "c = np.dot(a, b)\n",
        "print(c)\n",
        "\n",
        "total_sum =np.sum(c)\n",
        "print(total_sum)\n",
        "\n"
      ],
      "execution_count": 8,
      "outputs": [
        {
          "output_type": "stream",
          "text": [
            "[[ 84  90  96]\n",
            " [201 216 231]\n",
            " [318 342 366]]\n",
            "1944\n"
          ],
          "name": "stdout"
        }
      ]
    }
  ]
}